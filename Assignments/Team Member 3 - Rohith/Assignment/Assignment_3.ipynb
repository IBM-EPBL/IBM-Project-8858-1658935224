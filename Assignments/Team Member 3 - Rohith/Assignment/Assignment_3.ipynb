{
  "nbformat": 4,
  "nbformat_minor": 0,
  "metadata": {
    "colab": {
      "provenance": []
    },
    "kernelspec": {
      "name": "python3",
      "display_name": "Python 3"
    },
    "language_info": {
      "name": "python"
    }
  },
  "cells": [
    {
      "cell_type": "code",
      "execution_count": 3,
      "metadata": {
        "id": "CgsI24BK3iMx"
      },
      "outputs": [],
      "source": [
        "from tensorflow.keras.models import Sequential\n",
        "from tensorflow.keras.layers import Dense"
      ]
    },
    {
      "cell_type": "code",
      "source": [
        "from google.colab import drive\n",
        "drive.mount('/content/drive')"
      ],
      "metadata": {
        "colab": {
          "base_uri": "https://localhost:8080/"
        },
        "id": "wbKtmzVbSSB8",
        "outputId": "78078ffc-a22c-4895-dec8-c0ad1ed4a229"
      },
      "execution_count": 4,
      "outputs": [
        {
          "output_type": "stream",
          "name": "stdout",
          "text": [
            "Drive already mounted at /content/drive; to attempt to forcibly remount, call drive.mount(\"/content/drive\", force_remount=True).\n"
          ]
        }
      ]
    },
    {
      "cell_type": "code",
      "source": [
        "from tensorflow.keras.layers import Convolution2D\n",
        "from tensorflow.keras.layers import MaxPooling2D\n",
        "from tensorflow.keras.layers import Flatten"
      ],
      "metadata": {
        "id": "IYgnmBLw3tyh"
      },
      "execution_count": 5,
      "outputs": []
    },
    {
      "cell_type": "code",
      "source": [
        "from tensorflow.keras.preprocessing.image import ImageDataGenerator"
      ],
      "metadata": {
        "id": "axsAYcpX3v_R"
      },
      "execution_count": 6,
      "outputs": []
    },
    {
      "cell_type": "code",
      "source": [
        "train_datagen = ImageDataGenerator(rescale=1./255,shear_range=0.2,zoom_range=0.2,horizontal_flip=True,vertical_flip=True)"
      ],
      "metadata": {
        "id": "tqNIOQJl3wxN"
      },
      "execution_count": 7,
      "outputs": []
    },
    {
      "cell_type": "code",
      "source": [
        "test_datagen = ImageDataGenerator(rescale=1./255)"
      ],
      "metadata": {
        "id": "bz2HVwVw3zPI"
      },
      "execution_count": 8,
      "outputs": []
    },
    {
      "cell_type": "code",
      "source": [
        "x_train = train_datagen.flow_from_directory(r\"/content/drive/MyDrive/Datasets/Flowers-Dataset/flowers\",target_size=(128,128),batch_size=32,class_mode=\"categorical\")"
      ],
      "metadata": {
        "id": "grXdi-k-31gz",
        "colab": {
          "base_uri": "https://localhost:8080/"
        },
        "outputId": "6819af89-6ce4-4452-fae3-aac3738c46bf"
      },
      "execution_count": 9,
      "outputs": [
        {
          "output_type": "stream",
          "name": "stdout",
          "text": [
            "Found 4327 images belonging to 5 classes.\n"
          ]
        }
      ]
    },
    {
      "cell_type": "code",
      "source": [
        "x_test = test_datagen.flow_from_directory(r\"/content/drive/MyDrive/Datasets/Flowers-Dataset/flowers\",target_size=(128,128),batch_size=32,class_mode=\"categorical\")"
      ],
      "metadata": {
        "id": "BoDb4l7k34W-",
        "colab": {
          "base_uri": "https://localhost:8080/"
        },
        "outputId": "c903765e-bb30-4cf7-d91f-277af067703f"
      },
      "execution_count": 10,
      "outputs": [
        {
          "output_type": "stream",
          "name": "stdout",
          "text": [
            "Found 4327 images belonging to 5 classes.\n"
          ]
        }
      ]
    },
    {
      "cell_type": "code",
      "source": [
        "x_train.class_indices"
      ],
      "metadata": {
        "id": "sbdIFPte37Tv",
        "colab": {
          "base_uri": "https://localhost:8080/"
        },
        "outputId": "c9d6b96f-5ee7-435f-c721-5b80a28268ad"
      },
      "execution_count": 11,
      "outputs": [
        {
          "output_type": "execute_result",
          "data": {
            "text/plain": [
              "{'daisy': 0, 'dandelion': 1, 'rose': 2, 'sunflower': 3, 'tulip': 4}"
            ]
          },
          "metadata": {},
          "execution_count": 11
        }
      ]
    },
    {
      "cell_type": "code",
      "source": [
        "model = Sequential()"
      ],
      "metadata": {
        "id": "4v1uI7ug393P"
      },
      "execution_count": 12,
      "outputs": []
    },
    {
      "cell_type": "code",
      "source": [
        "model.add(Convolution2D(32,(3,3),input_shape=(128,128,3),activation='relu'))"
      ],
      "metadata": {
        "id": "4X33gVab4Awd"
      },
      "execution_count": 13,
      "outputs": []
    },
    {
      "cell_type": "code",
      "source": [
        "model.add(MaxPooling2D(pool_size=(2,2)))"
      ],
      "metadata": {
        "id": "tLI3j-0L4C1J"
      },
      "execution_count": 14,
      "outputs": []
    },
    {
      "cell_type": "code",
      "source": [
        "model.add(Flatten())"
      ],
      "metadata": {
        "id": "_v-rgen94FEy"
      },
      "execution_count": 15,
      "outputs": []
    },
    {
      "cell_type": "code",
      "source": [
        "model.add(Dense(units=300,kernel_initializer=\"random_uniform\",activation=\"relu\"))"
      ],
      "metadata": {
        "id": "0bddg-FQ4Hce"
      },
      "execution_count": 16,
      "outputs": []
    },
    {
      "cell_type": "code",
      "source": [
        "model.add(Dense(units=200,kernel_initializer=\"random_uniform\",activation=\"relu\"))"
      ],
      "metadata": {
        "id": "xiZakhij4Jjw"
      },
      "execution_count": 17,
      "outputs": []
    },
    {
      "cell_type": "code",
      "source": [
        "model.add(Dense(units=5,kernel_initializer=\"random_uniform\",activation=\"softmax\"))"
      ],
      "metadata": {
        "id": "XHFIKYKF4M_n"
      },
      "execution_count": 18,
      "outputs": []
    },
    {
      "cell_type": "code",
      "source": [
        "model.compile(loss=\"categorical_crossentropy\",optimizer=\"adam\",metrics=[\"accuracy\"])"
      ],
      "metadata": {
        "id": "4ncGg_dc4Pg5"
      },
      "execution_count": 19,
      "outputs": []
    },
    {
      "cell_type": "code",
      "source": [
        "model.fit_generator(x_train,steps_per_epoch=100,epochs=20,validation_data=x_test,validation_steps=80)"
      ],
      "metadata": {
        "id": "NISpnzC34R_X",
        "colab": {
          "base_uri": "https://localhost:8080/"
        },
        "outputId": "451c505e-d629-4285-ae18-8b983715d8e3"
      },
      "execution_count": 21,
      "outputs": [
        {
          "output_type": "stream",
          "name": "stderr",
          "text": [
            "/usr/local/lib/python3.7/dist-packages/ipykernel_launcher.py:1: UserWarning: `Model.fit_generator` is deprecated and will be removed in a future version. Please use `Model.fit`, which supports generators.\n",
            "  \"\"\"Entry point for launching an IPython kernel.\n"
          ]
        },
        {
          "output_type": "stream",
          "name": "stdout",
          "text": [
            "Epoch 1/20\n",
            "100/100 [==============================] - 98s 979ms/step - loss: 0.8488 - accuracy: 0.6709 - val_loss: 0.8596 - val_accuracy: 0.6711\n",
            "Epoch 2/20\n",
            "100/100 [==============================] - 101s 1s/step - loss: 0.8208 - accuracy: 0.6756 - val_loss: 0.8003 - val_accuracy: 0.6902\n",
            "Epoch 3/20\n",
            "100/100 [==============================] - 106s 1s/step - loss: 0.7908 - accuracy: 0.6972 - val_loss: 0.8430 - val_accuracy: 0.6875\n",
            "Epoch 4/20\n",
            "100/100 [==============================] - 103s 1s/step - loss: 0.7666 - accuracy: 0.7099 - val_loss: 0.7743 - val_accuracy: 0.7051\n",
            "Epoch 5/20\n",
            "100/100 [==============================] - 101s 1s/step - loss: 0.7599 - accuracy: 0.7112 - val_loss: 0.7228 - val_accuracy: 0.7230\n",
            "Epoch 6/20\n",
            "100/100 [==============================] - 98s 983ms/step - loss: 0.7473 - accuracy: 0.7143 - val_loss: 0.6398 - val_accuracy: 0.7586\n",
            "Epoch 7/20\n",
            "100/100 [==============================] - 101s 1s/step - loss: 0.7224 - accuracy: 0.7263 - val_loss: 0.6319 - val_accuracy: 0.7664\n",
            "Epoch 8/20\n",
            "100/100 [==============================] - 101s 1s/step - loss: 0.6847 - accuracy: 0.7310 - val_loss: 0.6848 - val_accuracy: 0.7430\n",
            "Epoch 9/20\n",
            "100/100 [==============================] - 100s 1s/step - loss: 0.6865 - accuracy: 0.7547 - val_loss: 0.6399 - val_accuracy: 0.7629\n",
            "Epoch 10/20\n",
            "100/100 [==============================] - 102s 1s/step - loss: 0.6583 - accuracy: 0.7494 - val_loss: 0.6147 - val_accuracy: 0.7668\n",
            "Epoch 11/20\n",
            "100/100 [==============================] - 101s 1s/step - loss: 0.6285 - accuracy: 0.7594 - val_loss: 0.5911 - val_accuracy: 0.7801\n",
            "Epoch 12/20\n",
            "100/100 [==============================] - 103s 1s/step - loss: 0.6279 - accuracy: 0.7597 - val_loss: 0.6416 - val_accuracy: 0.7629\n",
            "Epoch 13/20\n",
            "100/100 [==============================] - 100s 1s/step - loss: 0.6216 - accuracy: 0.7694 - val_loss: 0.5668 - val_accuracy: 0.7844\n",
            "Epoch 14/20\n",
            "100/100 [==============================] - 102s 1s/step - loss: 0.6019 - accuracy: 0.7720 - val_loss: 0.6191 - val_accuracy: 0.7746\n",
            "Epoch 15/20\n",
            "100/100 [==============================] - 100s 1000ms/step - loss: 0.5704 - accuracy: 0.7843 - val_loss: 0.5163 - val_accuracy: 0.8090\n",
            "Epoch 16/20\n",
            "100/100 [==============================] - 102s 1s/step - loss: 0.5622 - accuracy: 0.7896 - val_loss: 0.4929 - val_accuracy: 0.8145\n",
            "Epoch 17/20\n",
            "100/100 [==============================] - 99s 994ms/step - loss: 0.5685 - accuracy: 0.7827 - val_loss: 0.5695 - val_accuracy: 0.7777\n",
            "Epoch 18/20\n",
            "100/100 [==============================] - 99s 995ms/step - loss: 0.5555 - accuracy: 0.7887 - val_loss: 0.4705 - val_accuracy: 0.8172\n",
            "Epoch 19/20\n",
            "100/100 [==============================] - 101s 1s/step - loss: 0.5395 - accuracy: 0.7899 - val_loss: 0.4558 - val_accuracy: 0.8262\n",
            "Epoch 20/20\n",
            "100/100 [==============================] - 99s 991ms/step - loss: 0.5266 - accuracy: 0.7943 - val_loss: 0.5567 - val_accuracy: 0.7973\n"
          ]
        },
        {
          "output_type": "execute_result",
          "data": {
            "text/plain": [
              "<keras.callbacks.History at 0x7f4faeaa3850>"
            ]
          },
          "metadata": {},
          "execution_count": 21
        }
      ]
    },
    {
      "cell_type": "code",
      "source": [
        "model.save(\"/content/flower.h5\")"
      ],
      "metadata": {
        "id": "lJULQKm94WYS"
      },
      "execution_count": 26,
      "outputs": []
    },
    {
      "cell_type": "code",
      "source": [
        "from tensorflow.keras.models import load_model\n",
        "from tensorflow.keras.preprocessing import image"
      ],
      "metadata": {
        "id": "tvdz3PRD4Ylp"
      },
      "execution_count": 27,
      "outputs": []
    },
    {
      "cell_type": "code",
      "source": [
        "import numpy as np"
      ],
      "metadata": {
        "id": "jrjUCCDq4ZON"
      },
      "execution_count": 28,
      "outputs": []
    },
    {
      "cell_type": "code",
      "source": [
        "model = load_model(\"/content/flower.h5\")"
      ],
      "metadata": {
        "id": "PzeObvkU4cBP"
      },
      "execution_count": 30,
      "outputs": []
    },
    {
      "cell_type": "code",
      "source": [
        "img = image.load_img(r\"/content/drive/MyDrive/Datasets/Flowers-Dataset/flowers/rose/14312910041_b747240d56_n.jpg\",target_size=(128,128))\n",
        "img"
      ],
      "metadata": {
        "id": "r2tBYiuw4ebf",
        "colab": {
          "base_uri": "https://localhost:8080/",
          "height": 145
        },
        "outputId": "0c76314c-8a1f-4468-c33c-b6468d4b1f83"
      },
      "execution_count": 31,
      "outputs": [
        {
          "output_type": "execute_result",
          "data": {
            "text/plain": [
              "<PIL.Image.Image image mode=RGB size=128x128 at 0x7F4FAE255B10>"
            ],
            "image/png": "[encoded data removed]"
          },
          "metadata": {},
          "execution_count": 31
        }
      ]
    },
    {
      "cell_type": "code",
      "source": [
        "type(img)"
      ],
      "metadata": {
        "id": "Gbz29-PZ4gln",
        "colab": {
          "base_uri": "https://localhost:8080/"
        },
        "outputId": "e29d5a9b-7813-4901-8132-8aff22cf2f5e"
      },
      "execution_count": 32,
      "outputs": [
        {
          "output_type": "execute_result",
          "data": {
            "text/plain": [
              "PIL.Image.Image"
            ]
          },
          "metadata": {},
          "execution_count": 32
        }
      ]
    },
    {
      "cell_type": "code",
      "source": [
        "x = image.img_to_array(img)\n",
        "x"
      ],
      "metadata": {
        "id": "8q84jEKO4jGd",
        "colab": {
          "base_uri": "https://localhost:8080/"
        },
        "outputId": "11e1066f-e28b-44fd-e1ca-f3f237050103"
      },
      "execution_count": 33,
      "outputs": [
        {
          "output_type": "execute_result",
          "data": {
            "text/plain": [
              "array([[[118., 114., 115.],\n",
              "        [253., 251., 255.],\n",
              "        [ 54.,  53.,  48.],\n",
              "        ...,\n",
              "        [ 92., 107.,  68.],\n",
              "        [ 74.,  86.,  64.],\n",
              "        [ 72.,  84.,  64.]],\n",
              "\n",
              "       [[147., 150., 155.],\n",
              "        [ 43.,  47.,  50.],\n",
              "        [252., 255., 255.],\n",
              "        ...,\n",
              "        [ 71.,  87.,  51.],\n",
              "        [ 88., 103.,  72.],\n",
              "        [ 59.,  72.,  52.]],\n",
              "\n",
              "       [[187., 197., 186.],\n",
              "        [213., 213., 221.],\n",
              "        [ 89.,  96.,  89.],\n",
              "        ...,\n",
              "        [123., 137., 112.],\n",
              "        [ 92., 107.,  78.],\n",
              "        [ 52.,  65.,  48.]],\n",
              "\n",
              "       ...,\n",
              "\n",
              "       [[ 84.,  64.,  65.],\n",
              "        [ 76.,  53.,  47.],\n",
              "        [ 83.,  60.,  54.],\n",
              "        ...,\n",
              "        [129., 123.,  89.],\n",
              "        [100., 105.,  85.],\n",
              "        [ 59.,  73.,  48.]],\n",
              "\n",
              "       [[ 88.,  79.,  72.],\n",
              "        [132., 116., 117.],\n",
              "        [ 81.,  68.,  62.],\n",
              "        ...,\n",
              "        [ 50.,  49.,  44.],\n",
              "        [ 42.,  49.,  41.],\n",
              "        [ 30.,  41.,  24.]],\n",
              "\n",
              "       [[184., 174., 175.],\n",
              "        [192., 177., 180.],\n",
              "        [127., 122.,  92.],\n",
              "        ...,\n",
              "        [ 80.,  94.,  71.],\n",
              "        [ 53.,  67.,  42.],\n",
              "        [ 28.,  37.,  20.]]], dtype=float32)"
            ]
          },
          "metadata": {},
          "execution_count": 33
        }
      ]
    },
    {
      "cell_type": "code",
      "source": [
        "x.shape"
      ],
      "metadata": {
        "id": "X6nn8yd74lgF",
        "colab": {
          "base_uri": "https://localhost:8080/"
        },
        "outputId": "3376d097-a36d-4406-bb9d-4d0cd532469a"
      },
      "execution_count": 34,
      "outputs": [
        {
          "output_type": "execute_result",
          "data": {
            "text/plain": [
              "(128, 128, 3)"
            ]
          },
          "metadata": {},
          "execution_count": 34
        }
      ]
    },
    {
      "cell_type": "code",
      "source": [
        "x = np.expand_dims(x,axis=0)\n",
        "x.shape"
      ],
      "metadata": {
        "id": "CBZNKbtg4our",
        "colab": {
          "base_uri": "https://localhost:8080/"
        },
        "outputId": "91b4f176-adc6-43fd-be13-decaa595e836"
      },
      "execution_count": 35,
      "outputs": [
        {
          "output_type": "execute_result",
          "data": {
            "text/plain": [
              "(1, 128, 128, 3)"
            ]
          },
          "metadata": {},
          "execution_count": 35
        }
      ]
    },
    {
      "cell_type": "code",
      "source": [
        "pred_prob = model.predict(x)\n",
        "pred_prob"
      ],
      "metadata": {
        "id": "D41xg6-Y4tHK",
        "colab": {
          "base_uri": "https://localhost:8080/"
        },
        "outputId": "8d1a95a8-e6db-4ab8-8020-a0d1dabe1c2e"
      },
      "execution_count": 36,
      "outputs": [
        {
          "output_type": "execute_result",
          "data": {
            "text/plain": [
              "array([[1., 0., 0., 0., 0.]], dtype=float32)"
            ]
          },
          "metadata": {},
          "execution_count": 36
        }
      ]
    },
    {
      "cell_type": "code",
      "source": [
        "class_name = [\"daisy\",\"dandelion\",\"rose\",\"sunfower\",\"tulip\"]\n",
        "pred_id = pred_prob.argmax(axis=1)[0]\n",
        "pred_id"
      ],
      "metadata": {
        "id": "yEQk9b4l4vp_",
        "colab": {
          "base_uri": "https://localhost:8080/"
        },
        "outputId": "b4f1c208-d7d9-47c3-f74b-c4a41a39657c"
      },
      "execution_count": 37,
      "outputs": [
        {
          "output_type": "execute_result",
          "data": {
            "text/plain": [
              "0"
            ]
          },
          "metadata": {},
          "execution_count": 37
        }
      ]
    },
    {
      "cell_type": "code",
      "source": [
        "print(\"Predicted animal is\",str(class_name[pred_id]))"
      ],
      "metadata": {
        "id": "b0B3jN8A4x7D",
        "colab": {
          "base_uri": "https://localhost:8080/"
        },
        "outputId": "f9164414-e654-40c3-909c-5167dccc057f"
      },
      "execution_count": 38,
      "outputs": [
        {
          "output_type": "stream",
          "name": "stdout",
          "text": [
            "Predicted animal is daisy\n"
          ]
        }
      ]
    }
  ]
}